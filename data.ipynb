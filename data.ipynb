{
 "cells": [
  {
   "cell_type": "code",
   "execution_count": 4,
   "metadata": {},
   "outputs": [
    {
     "name": "stderr",
     "output_type": "stream",
     "text": [
      "20-Oct-2021 11:52:37 INFO GEOparse - Parsing /Users/devpatelio/Downloads/Coding/Computational_Biology/mRNA-Fold/translationrate/GSE13750_family.soft.gz: \n",
      "20-Oct-2021 11:52:37 DEBUG GEOparse - DATABASE: GeoMiame\n",
      "20-Oct-2021 11:52:37 DEBUG GEOparse - SERIES: GSE13750\n",
      "20-Oct-2021 11:52:37 DEBUG GEOparse - PLATFORM: GPL9134\n",
      "20-Oct-2021 11:52:37 DEBUG GEOparse - SAMPLE: GSM346111\n",
      "20-Oct-2021 11:52:40 DEBUG GEOparse - SAMPLE: GSM346114\n",
      "20-Oct-2021 11:52:47 DEBUG GEOparse - SAMPLE: GSM346115\n",
      "20-Oct-2021 11:52:48 DEBUG GEOparse - SAMPLE: GSM346116\n",
      "20-Oct-2021 11:52:53 DEBUG GEOparse - SAMPLE: GSM346117\n",
      "20-Oct-2021 11:52:58 DEBUG GEOparse - SAMPLE: GSM346118\n",
      "20-Oct-2021 11:53:10 DEBUG GEOparse - SAMPLE: GSM346120\n",
      "20-Oct-2021 11:53:13 DEBUG GEOparse - SAMPLE: GSM346122\n"
     ]
    },
    {
     "name": "stdout",
     "output_type": "stream",
     "text": [
      "GSM346111 done\n",
      "GSM346114 done\n",
      "GSM346115 done\n",
      "GSM346116 done\n",
      "GSM346117 done\n",
      "GSM346118 done\n",
      "GSM346120 done\n",
      "GSM346122 done\n"
     ]
    }
   ],
   "source": [
    "import GEOparse\n",
    "index = 'GSE13750'\n",
    "drsoft = '/Users/devpatelio/Downloads/Coding/Computational_Biology/mRNA-Fold/translationrate/GSE13750_family.soft.gz'\n",
    "\n",
    "gse = GEOparse.get_GEO(filepath=drsoft, destdir= r'/translationrate')\n",
    "for name, extra in gse.gsms.items():\n",
    "    name = name.strip('\\n')\n",
    "    print(f\"{name} done\")\n",
    "    gse.gsms[name].table.to_csv(f\"{name}.txt\", index=None, sep='\\t', mode='w')"
   ]
  },
  {
   "cell_type": "code",
   "execution_count": 5,
   "metadata": {},
   "outputs": [
    {
     "name": "stdout",
     "output_type": "stream",
     "text": [
      "{'Footprints-rich-1': '/Users/devpatelio/Downloads/Coding/Computational_Biology/mRNA-Fold/translationrate/GSM346122.txt', 'Footprints-rich-2': '/Users/devpatelio/Downloads/Coding/Computational_Biology/mRNA-Fold/translationrate/GSM346122.txt', 'Footprints-starved-1': '/Users/devpatelio/Downloads/Coding/Computational_Biology/mRNA-Fold/translationrate/GSM346122.txt', 'Footprints-starved-2': '/Users/devpatelio/Downloads/Coding/Computational_Biology/mRNA-Fold/translationrate/GSM346122.txt', 'mRNA-rich-1': '/Users/devpatelio/Downloads/Coding/Computational_Biology/mRNA-Fold/translationrate/GSM346122.txt', 'mRNA-rich-2': '/Users/devpatelio/Downloads/Coding/Computational_Biology/mRNA-Fold/translationrate/GSM346122.txt', 'mRNA-starved-1': '/Users/devpatelio/Downloads/Coding/Computational_Biology/mRNA-Fold/translationrate/GSM346122.txt', 'mRNA-starved-2': '/Users/devpatelio/Downloads/Coding/Computational_Biology/mRNA-Fold/translationrate/GSM346122.txt'}\n"
     ]
    }
   ],
   "source": [
    "all_kinds = ['GSM346111', 'GSM346114', 'GSM346115', 'GSM346116', 'GSM346117', 'GSM346118', 'GSM346120', 'GSM346122']\n",
    "all_names = ['Footprints-rich-1', 'Footprints-rich-2', 'Footprints-starved-1', 'Footprints-starved-2', 'mRNA-rich-1', 'mRNA-rich-2','mRNA-starved-1', 'mRNA-starved-2']\n",
    "dataset = {key: drsoft[:83] + value +'.txt' for key in all_names for value in all_kinds}\n",
    "print(dataset)"
   ]
  },
  {
   "cell_type": "code",
   "execution_count": 6,
   "metadata": {},
   "outputs": [],
   "source": [
    "import pandas as pd\n",
    "import numpy as np\n",
    "import scipy as sp\n",
    "import csv\n",
    "\n",
    "def read_csv(path, type='r'):\n",
    "    with open(path, type) as file:\n",
    "        return pd.read_csv(file, sep=\"\\t\")\n",
    "\n",
    "\n",
    "dataset_table = dataset.copy()\n",
    "for key, value in dataset_table.items():\n",
    "    dataset_table[key] = read_csv(value)\n"
   ]
  },
  {
   "cell_type": "code",
   "execution_count": 7,
   "metadata": {},
   "outputs": [],
   "source": [
    "for name in all_names:\n",
    "    dataset_table[name]['RATE'] = list(len(dataset_table[name]['SEQUENCE'])/dataset_table[name]['COUNT'])"
   ]
  },
  {
   "cell_type": "code",
   "execution_count": 8,
   "metadata": {},
   "outputs": [
    {
     "data": {
      "text/plain": [
       "<bound method NDFrame.head of                                      SEQUENCE  COUNT       RATE\n",
       "0        AAAAAAAAAAAAAAAAAACCGTTAAAACAAAAAAAA      4   794796.5\n",
       "1        AAAAAAAAAAAAAAAAAACTTGAAGAAACAATTCAA      1  3179186.0\n",
       "2        AAAAAAAAAAAAAAAAAAGCTTGCACGAAAAAAAAA      1  3179186.0\n",
       "3         AAAAAAAAAAAAAAAAAAGGTTGAGCAAAAAAAAA      2  1589593.0\n",
       "4        AAAAAAAAAAAAAAAAAAGTGGAAAAAAAAAAAAAA      1  3179186.0\n",
       "...                                       ...    ...        ...\n",
       "3179181  TTTTTTTTTTTTTTTTTCTCCCCACAAAAAAAAAAA      1  3179186.0\n",
       "3179182   TTTTTTTTTTTTTTTTTTAAAACGAAAAAAAAAAA      2  1589593.0\n",
       "3179183  TTTTTTTTTTTTTTTTTTAAAATAAAAAAAAAAAAA      1  3179186.0\n",
       "3179184  TTTTTTTTTTTTTTTTTTAACAAAAAAAAAAAAAAA      1  3179186.0\n",
       "3179185  TTTTTTTTTTTTTTTTTTCACCATAACAAACAAAAA      1  3179186.0\n",
       "\n",
       "[3179186 rows x 3 columns]>"
      ]
     },
     "execution_count": 8,
     "metadata": {},
     "output_type": "execute_result"
    }
   ],
   "source": [
    "dataset_table['mRNA-rich-1'].head"
   ]
  }
 ],
 "metadata": {
  "interpreter": {
   "hash": "aee8b7b246df8f9039afb4144a1f6fd8d2ca17a180786b69acc140d282b71a49"
  },
  "kernelspec": {
   "display_name": "Python 3",
   "language": "python",
   "name": "python3"
  },
  "language_info": {
   "codemirror_mode": {
    "name": "ipython",
    "version": 3
   },
   "file_extension": ".py",
   "mimetype": "text/x-python",
   "name": "python",
   "nbconvert_exporter": "python",
   "pygments_lexer": "ipython3",
   "version": "3.8.3"
  }
 },
 "nbformat": 4,
 "nbformat_minor": 4
}
