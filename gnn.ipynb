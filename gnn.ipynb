{
 "cells": [
  {
   "cell_type": "code",
   "execution_count": 1,
   "metadata": {},
   "outputs": [],
   "source": [
    "import torch\n",
    "import torch.nn\n",
    "import torch.nn.functional as F\n",
    "import torch_geometric\n",
    "from torch_geometric.data import InMemoryDataset, Data\n",
    "import torch_geometric.transforms as T\n",
    "import sklearn\n",
    "from sklearn.model_selection import train_test_split\n",
    "import numpy as np\n",
    "import seaborn as sns\n",
    "import pandas as pd\n",
    "import matplotlib.pyplot as plt\n",
    "\n",
    "import networkx as nx\n",
    "from sklearn.preprocessing import StandardScaler\n"
   ]
  },
  {
   "cell_type": "code",
   "execution_count": 22,
   "metadata": {},
   "outputs": [
    {
     "name": "stdout",
     "output_type": "stream",
     "text": [
      "34\n",
      "34\n",
      "tensor([[ 0,  0,  0,  0,  0,  0,  0,  0,  0,  0,  0,  0,  0,  0,  0,  0,  1,  1,\n",
      "          1,  1,  1,  1,  1,  1,  1,  2,  2,  2,  2,  2,  2,  2,  2,  2,  2,  3,\n",
      "          3,  3,  3,  3,  3,  4,  4,  4,  5,  5,  5,  5,  6,  6,  6,  6,  7,  7,\n",
      "          7,  7,  8,  8,  8,  8,  8,  9,  9, 10, 10, 10, 11, 12, 12, 13, 13, 13,\n",
      "         13, 13, 14, 14, 15, 15, 16, 16, 17, 17, 18, 18, 19, 19, 19, 20, 20, 21,\n",
      "         21, 22, 22, 23, 23, 23, 23, 23, 24, 24, 24, 25, 25, 25, 26, 26, 27, 27,\n",
      "         27, 27, 28, 28, 28, 29, 29, 29, 29, 30, 30, 30, 30, 31, 31, 31, 31, 31,\n",
      "         31, 32, 32, 32, 32, 32, 32, 32, 32, 32, 32, 32, 32, 33, 33, 33, 33, 33,\n",
      "         33, 33, 33, 33, 33, 33, 33, 33, 33, 33, 33, 33],\n",
      "        [ 1,  2,  3,  4,  5,  6,  7,  8, 10, 11, 12, 13, 17, 19, 21, 31,  0,  2,\n",
      "          3,  7, 13, 17, 19, 21, 30,  0,  1,  3,  7,  8,  9, 13, 27, 28, 32,  0,\n",
      "          1,  2,  7, 12, 13,  0,  6, 10,  0,  6, 10, 16,  0,  4,  5, 16,  0,  1,\n",
      "          2,  3,  0,  2, 30, 32, 33,  2, 33,  0,  4,  5,  0,  0,  3,  0,  1,  2,\n",
      "          3, 33, 32, 33, 32, 33,  5,  6,  0,  1, 32, 33,  0,  1, 33, 32, 33,  0,\n",
      "          1, 32, 33, 25, 27, 29, 32, 33, 25, 27, 31, 23, 24, 31, 29, 33,  2, 23,\n",
      "         24, 33,  2, 31, 33, 23, 26, 32, 33,  1,  8, 32, 33,  0, 24, 25, 28, 32,\n",
      "         33,  2,  8, 14, 15, 18, 20, 22, 23, 29, 30, 31, 33,  8,  9, 13, 14, 15,\n",
      "         18, 19, 20, 22, 23, 26, 27, 28, 29, 30, 31, 32]])\n",
      "[16  9 10  6  3  4  4  4  5  2  3  1  2  5  2  2  2  2  2  3  2  2  2  5\n",
      "  3  3  2  4  3  4  4  6 12 17]\n",
      "[[ 2.98709092]\n",
      " [ 1.15480319]\n",
      " [ 1.41655858]\n",
      " [ 0.36953702]\n",
      " [-0.41572915]\n",
      " [-0.15397376]\n",
      " [-0.15397376]\n",
      " [-0.15397376]\n",
      " [ 0.10778163]\n",
      " [-0.67748454]\n",
      " [-0.41572915]\n",
      " [-0.93923993]\n",
      " [-0.67748454]\n",
      " [ 0.10778163]\n",
      " [-0.67748454]\n",
      " [-0.67748454]\n",
      " [-0.67748454]\n",
      " [-0.67748454]\n",
      " [-0.67748454]\n",
      " [-0.41572915]\n",
      " [-0.67748454]\n",
      " [-0.67748454]\n",
      " [-0.67748454]\n",
      " [ 0.10778163]\n",
      " [-0.41572915]\n",
      " [-0.41572915]\n",
      " [-0.67748454]\n",
      " [-0.15397376]\n",
      " [-0.41572915]\n",
      " [-0.15397376]\n",
      " [-0.15397376]\n",
      " [ 0.36953702]\n",
      " [ 1.94006936]\n",
      " [ 3.24884631]]\n"
     ]
    }
   ],
   "source": [
    "G = nx.karate_club_graph()\n",
    "labels = np.asarray([G.nodes[i]['club'] != 'Mr.Hi' for i in G.nodes]).astype(np.int64)\n",
    "print(len(labels)) #34 nodes\n",
    "print(len(np.asarray(G.nodes)))\n",
    "\n",
    "adj = nx.to_scipy_sparse_matrix(G).tocoo() #adjacency matrix\n",
    "row = torch.from_numpy(adj.row.astype(np.int64)).to(torch.long) #first entry\n",
    "col = torch.from_numpy(adj.col.astype(np.int64)).to(torch.long) #second entry\n",
    "edge_index = torch.stack([row, col], dim=0) #both into one\n",
    "\n",
    "# print(row)\n",
    "# print(col)\n",
    "# print(adj)\n",
    "\n",
    "print(edge_index) #combineboth row and col matrices\n",
    "\n",
    "empty = np.zeros((len(labels), len(labels)))\n",
    "# print(empty)\n",
    "\n",
    "embeddings = np.array(list(dict(G.degree()).values())) #degree is total node neighbours/connections (ie. node 0 has 16 connections)\n",
    "print(embeddings)\n",
    "\n",
    "scale = StandardScaler() #normalize and scale degree values\n",
    "embeddings = scale.fit_transform(embeddings.reshape(-1, 1))\n",
    "print(embeddings)"
   ]
  },
  {
   "cell_type": "code",
   "execution_count": null,
   "metadata": {},
   "outputs": [],
   "source": [
    "class KarateDataset(InMemoryDataset):\n",
    "    def __init__ (self, root, transform=None):\n",
    "        super(KarateDataset, self).__init__('.', transform, None, None)\n",
    "        data = Data(edge_index=edge_index)\n",
    "\n",
    "        data.num_nodes = G.number_of_nodes()\n",
    "        data.x = torch.from_numpy(embeddings).type(torch.float32)\n",
    "        y = torch.from_numpy(labels).type(torch.long)     "
   ]
  }
 ],
 "metadata": {
  "interpreter": {
   "hash": "577ea14e5a220a2e2ceb4e7a6eabde6a6424f50ee02cc5f86f913307280e145a"
  },
  "kernelspec": {
   "display_name": "Python 3.8.12 ('machine_learning')",
   "language": "python",
   "name": "python3"
  },
  "language_info": {
   "codemirror_mode": {
    "name": "ipython",
    "version": 3
   },
   "file_extension": ".py",
   "mimetype": "text/x-python",
   "name": "python",
   "nbconvert_exporter": "python",
   "pygments_lexer": "ipython3",
   "version": "3.8.12"
  },
  "orig_nbformat": 4
 },
 "nbformat": 4,
 "nbformat_minor": 2
}
